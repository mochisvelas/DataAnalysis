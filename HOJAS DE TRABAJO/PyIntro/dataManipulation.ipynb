{
 "cells": [
  {
   "cell_type": "markdown",
   "metadata": {},
   "source": [
    "### Import libraries"
   ]
  },
  {
   "cell_type": "code",
   "execution_count": 40,
   "metadata": {},
   "outputs": [],
   "source": [
    "import pandas as pd\n",
    "import numpy as np\n",
    "import matplotlib.pyplot as plt\n",
    "import pyodbc\n",
    "%matplotlib inline"
   ]
  },
  {
   "cell_type": "markdown",
   "metadata": {},
   "source": [
    "### SQL Connection"
   ]
  },
  {
   "cell_type": "code",
   "execution_count": 4,
   "metadata": {},
   "outputs": [],
   "source": [
    "# Had to increase timeout\n",
    "connection = pyodbc.connect('Driver={SQL Server};'\n",
    "'Server=LAPTOP-E8KMOCEO;'\n",
    "'Database=Admisiones_DWH;'\n",
    "'Trusted_Connection=yes;', timeout=5000)"
   ]
  },
  {
   "cell_type": "markdown",
   "metadata": {},
   "source": [
    "## Part b"
   ]
  },
  {
   "cell_type": "markdown",
   "metadata": {},
   "source": [
    "### Exercise i"
   ]
  },
  {
   "cell_type": "code",
   "execution_count": 9,
   "metadata": {},
   "outputs": [],
   "source": [
    "df_examFaculty = pd.read_sql('select * from fact.examen e inner join dimension.carrera c on e.sk_carrera = c.sk_carrera', connection)\n",
    "#df_examFaculty.head(5)"
   ]
  },
  {
   "cell_type": "code",
   "execution_count": 10,
   "metadata": {},
   "outputs": [
    {
     "data": {
      "text/html": [
       "<div>\n",
       "<style scoped>\n",
       "    .dataframe tbody tr th:only-of-type {\n",
       "        vertical-align: middle;\n",
       "    }\n",
       "\n",
       "    .dataframe tbody tr th {\n",
       "        vertical-align: top;\n",
       "    }\n",
       "\n",
       "    .dataframe thead th {\n",
       "        text-align: right;\n",
       "    }\n",
       "</style>\n",
       "<table border=\"1\" class=\"dataframe\">\n",
       "  <thead>\n",
       "    <tr style=\"text-align: right;\">\n",
       "      <th></th>\n",
       "      <th>NombreFacultad</th>\n",
       "      <th>ExamCount</th>\n",
       "    </tr>\n",
       "  </thead>\n",
       "  <tbody>\n",
       "    <tr>\n",
       "      <th>0</th>\n",
       "      <td>Arquitectura</td>\n",
       "      <td>9310</td>\n",
       "    </tr>\n",
       "    <tr>\n",
       "      <th>1</th>\n",
       "      <td>Ciencias Agricolas</td>\n",
       "      <td>3104</td>\n",
       "    </tr>\n",
       "    <tr>\n",
       "      <th>2</th>\n",
       "      <td>Ciencias Economicas</td>\n",
       "      <td>9266</td>\n",
       "    </tr>\n",
       "    <tr>\n",
       "      <th>3</th>\n",
       "      <td>Ciencias Politicas</td>\n",
       "      <td>9290</td>\n",
       "    </tr>\n",
       "    <tr>\n",
       "      <th>4</th>\n",
       "      <td>Ingenieria</td>\n",
       "      <td>9248</td>\n",
       "    </tr>\n",
       "    <tr>\n",
       "      <th>5</th>\n",
       "      <td>Medicina</td>\n",
       "      <td>9278</td>\n",
       "    </tr>\n",
       "  </tbody>\n",
       "</table>\n",
       "</div>"
      ],
      "text/plain": [
       "        NombreFacultad  ExamCount\n",
       "0         Arquitectura       9310\n",
       "1   Ciencias Agricolas       3104\n",
       "2  Ciencias Economicas       9266\n",
       "3   Ciencias Politicas       9290\n",
       "4           Ingenieria       9248\n",
       "5             Medicina       9278"
      ]
     },
     "execution_count": 10,
     "metadata": {},
     "output_type": "execute_result"
    }
   ],
   "source": [
    "df_examFacultyCount = df_examFaculty.groupby('NombreFacultad').count()['ID_Examen'].reset_index(name='ExamCount')\n",
    "df_examFacultyCount"
   ]
  },
  {
   "cell_type": "markdown",
   "metadata": {},
   "source": [
    "### Exercise ii"
   ]
  },
  {
   "cell_type": "code",
   "execution_count": 14,
   "metadata": {},
   "outputs": [],
   "source": [
    "df_examGender = pd.read_sql('select * from fact.examen e inner join dimension.candidato c on e.sk_candidato = c.sk_candidato', connection)\n",
    "#df_examGender.head(5)"
   ]
  },
  {
   "cell_type": "code",
   "execution_count": 15,
   "metadata": {},
   "outputs": [
    {
     "data": {
      "text/html": [
       "<div>\n",
       "<style scoped>\n",
       "    .dataframe tbody tr th:only-of-type {\n",
       "        vertical-align: middle;\n",
       "    }\n",
       "\n",
       "    .dataframe tbody tr th {\n",
       "        vertical-align: top;\n",
       "    }\n",
       "\n",
       "    .dataframe thead th {\n",
       "        text-align: right;\n",
       "    }\n",
       "</style>\n",
       "<table border=\"1\" class=\"dataframe\">\n",
       "  <thead>\n",
       "    <tr style=\"text-align: right;\">\n",
       "      <th></th>\n",
       "      <th>Genero</th>\n",
       "      <th>GenderCount</th>\n",
       "    </tr>\n",
       "  </thead>\n",
       "  <tbody>\n",
       "    <tr>\n",
       "      <th>0</th>\n",
       "      <td>F</td>\n",
       "      <td>24555</td>\n",
       "    </tr>\n",
       "    <tr>\n",
       "      <th>1</th>\n",
       "      <td>M</td>\n",
       "      <td>24941</td>\n",
       "    </tr>\n",
       "  </tbody>\n",
       "</table>\n",
       "</div>"
      ],
      "text/plain": [
       "  Genero  GenderCount\n",
       "0      F        24555\n",
       "1      M        24941"
      ]
     },
     "execution_count": 15,
     "metadata": {},
     "output_type": "execute_result"
    }
   ],
   "source": [
    "df_examGenderCount = df_examGender.groupby('Genero').count()['ID_Examen'].reset_index(name='GenderCount')\n",
    "df_examGenderCount"
   ]
  },
  {
   "cell_type": "markdown",
   "metadata": {},
   "source": [
    "### Exercise iii"
   ]
  },
  {
   "cell_type": "code",
   "execution_count": 17,
   "metadata": {},
   "outputs": [],
   "source": [
    "df_examPrice = pd.read_sql('select * from fact.examen e inner join dimension.carrera c on e.sk_carrera = c.sk_carrera', connection)\n",
    "#df_examPrice.head(5)"
   ]
  },
  {
   "cell_type": "code",
   "execution_count": 22,
   "metadata": {},
   "outputs": [
    {
     "data": {
      "text/html": [
       "<div>\n",
       "<style scoped>\n",
       "    .dataframe tbody tr th:only-of-type {\n",
       "        vertical-align: middle;\n",
       "    }\n",
       "\n",
       "    .dataframe tbody tr th {\n",
       "        vertical-align: top;\n",
       "    }\n",
       "\n",
       "    .dataframe thead th {\n",
       "        text-align: right;\n",
       "    }\n",
       "</style>\n",
       "<table border=\"1\" class=\"dataframe\">\n",
       "  <thead>\n",
       "    <tr style=\"text-align: right;\">\n",
       "      <th></th>\n",
       "      <th>NombreCarrera</th>\n",
       "      <th>PriceSum</th>\n",
       "    </tr>\n",
       "  </thead>\n",
       "  <tbody>\n",
       "    <tr>\n",
       "      <th>0</th>\n",
       "      <td>Admin de Empresas</td>\n",
       "      <td>1460764.10</td>\n",
       "    </tr>\n",
       "    <tr>\n",
       "      <th>1</th>\n",
       "      <td>Agronomia</td>\n",
       "      <td>1472798.49</td>\n",
       "    </tr>\n",
       "    <tr>\n",
       "      <th>2</th>\n",
       "      <td>Arquitecrtura</td>\n",
       "      <td>1472209.41</td>\n",
       "    </tr>\n",
       "    <tr>\n",
       "      <th>3</th>\n",
       "      <td>Ciencias sociales</td>\n",
       "      <td>1470349.57</td>\n",
       "    </tr>\n",
       "    <tr>\n",
       "      <th>4</th>\n",
       "      <td>Contador Publico y Auditor</td>\n",
       "      <td>1469065.60</td>\n",
       "    </tr>\n",
       "    <tr>\n",
       "      <th>5</th>\n",
       "      <td>Derecho internacional</td>\n",
       "      <td>1476007.22</td>\n",
       "    </tr>\n",
       "    <tr>\n",
       "      <th>6</th>\n",
       "      <td>Diseno grafico</td>\n",
       "      <td>1476152.33</td>\n",
       "    </tr>\n",
       "    <tr>\n",
       "      <th>7</th>\n",
       "      <td>Diseno industrial</td>\n",
       "      <td>1472469.94</td>\n",
       "    </tr>\n",
       "    <tr>\n",
       "      <th>8</th>\n",
       "      <td>Enfermeria</td>\n",
       "      <td>1474101.49</td>\n",
       "    </tr>\n",
       "    <tr>\n",
       "      <th>9</th>\n",
       "      <td>Hoteleria</td>\n",
       "      <td>1471569.39</td>\n",
       "    </tr>\n",
       "    <tr>\n",
       "      <th>10</th>\n",
       "      <td>Ingenieria Industrial</td>\n",
       "      <td>1461358.00</td>\n",
       "    </tr>\n",
       "    <tr>\n",
       "      <th>11</th>\n",
       "      <td>Ingenieria Quimica</td>\n",
       "      <td>1456694.93</td>\n",
       "    </tr>\n",
       "    <tr>\n",
       "      <th>12</th>\n",
       "      <td>Ingenieria en Informatica y Sistemas</td>\n",
       "      <td>1470836.40</td>\n",
       "    </tr>\n",
       "    <tr>\n",
       "      <th>13</th>\n",
       "      <td>Medico y Cirujano</td>\n",
       "      <td>1467089.06</td>\n",
       "    </tr>\n",
       "    <tr>\n",
       "      <th>14</th>\n",
       "      <td>Relaciones politicas</td>\n",
       "      <td>1467561.05</td>\n",
       "    </tr>\n",
       "    <tr>\n",
       "      <th>15</th>\n",
       "      <td>Terapia respiratoria</td>\n",
       "      <td>1466011.39</td>\n",
       "    </tr>\n",
       "  </tbody>\n",
       "</table>\n",
       "</div>"
      ],
      "text/plain": [
       "                           NombreCarrera    PriceSum\n",
       "0                      Admin de Empresas  1460764.10\n",
       "1                              Agronomia  1472798.49\n",
       "2                          Arquitecrtura  1472209.41\n",
       "3                      Ciencias sociales  1470349.57\n",
       "4             Contador Publico y Auditor  1469065.60\n",
       "5                  Derecho internacional  1476007.22\n",
       "6                         Diseno grafico  1476152.33\n",
       "7                      Diseno industrial  1472469.94\n",
       "8                             Enfermeria  1474101.49\n",
       "9                              Hoteleria  1471569.39\n",
       "10                 Ingenieria Industrial  1461358.00\n",
       "11                    Ingenieria Quimica  1456694.93\n",
       "12  Ingenieria en Informatica y Sistemas  1470836.40\n",
       "13                     Medico y Cirujano  1467089.06\n",
       "14                  Relaciones politicas  1467561.05\n",
       "15                  Terapia respiratoria  1466011.39"
      ]
     },
     "execution_count": 22,
     "metadata": {},
     "output_type": "execute_result"
    }
   ],
   "source": [
    "df_examPriceSum = df_examPrice.groupby('NombreCarrera').sum()['Precio'].reset_index(name='PriceSum')\n",
    "df_examPriceSum"
   ]
  },
  {
   "cell_type": "markdown",
   "metadata": {},
   "source": [
    "### Exercise iv"
   ]
  },
  {
   "cell_type": "code",
   "execution_count": 24,
   "metadata": {},
   "outputs": [],
   "source": [
    "df_FacultyMean = pd.read_sql('select * from fact.examen e inner join dimension.carrera c on e.sk_carrera = c.sk_carrera', connection)\n",
    "#df_FacultyMean.head(5)"
   ]
  },
  {
   "cell_type": "code",
   "execution_count": 38,
   "metadata": {},
   "outputs": [
    {
     "data": {
      "text/html": [
       "<div>\n",
       "<style scoped>\n",
       "    .dataframe tbody tr th:only-of-type {\n",
       "        vertical-align: middle;\n",
       "    }\n",
       "\n",
       "    .dataframe tbody tr th {\n",
       "        vertical-align: top;\n",
       "    }\n",
       "\n",
       "    .dataframe thead th {\n",
       "        text-align: right;\n",
       "    }\n",
       "</style>\n",
       "<table border=\"1\" class=\"dataframe\">\n",
       "  <thead>\n",
       "    <tr style=\"text-align: right;\">\n",
       "      <th></th>\n",
       "      <th>NombreFacultad</th>\n",
       "      <th>Score mean</th>\n",
       "    </tr>\n",
       "  </thead>\n",
       "  <tbody>\n",
       "    <tr>\n",
       "      <th>3</th>\n",
       "      <td>Ciencias Politicas</td>\n",
       "      <td>75.329622</td>\n",
       "    </tr>\n",
       "    <tr>\n",
       "      <th>4</th>\n",
       "      <td>Ingenieria</td>\n",
       "      <td>75.295798</td>\n",
       "    </tr>\n",
       "  </tbody>\n",
       "</table>\n",
       "</div>"
      ],
      "text/plain": [
       "       NombreFacultad  Score mean\n",
       "3  Ciencias Politicas   75.329622\n",
       "4          Ingenieria   75.295798"
      ]
     },
     "execution_count": 38,
     "metadata": {},
     "output_type": "execute_result"
    }
   ],
   "source": [
    "df_TopFacultyMean = df_FacultyMean.groupby('NombreFacultad').mean()['NotaTotal'].reset_index(name='Score mean')\n",
    "df_TopFacultyMean = df_TopFacultyMean.sort_values(by='Score mean', ascending=False)[0:2]\n",
    "df_TopFacultyMean"
   ]
  },
  {
   "cell_type": "markdown",
   "metadata": {},
   "source": [
    "## Part c"
   ]
  },
  {
   "cell_type": "markdown",
   "metadata": {},
   "source": [
    "### Exercise i"
   ]
  },
  {
   "cell_type": "code",
   "execution_count": 41,
   "metadata": {},
   "outputs": [
    {
     "data": {
      "text/plain": [
       "([<matplotlib.patches.Wedge at 0x2310bb59af0>,\n",
       "  <matplotlib.patches.Wedge at 0x2308bbcd220>,\n",
       "  <matplotlib.patches.Wedge at 0x2308bbcd8b0>,\n",
       "  <matplotlib.patches.Wedge at 0x2308bbcdf40>,\n",
       "  <matplotlib.patches.Wedge at 0x23089ff2610>,\n",
       "  <matplotlib.patches.Wedge at 0x23089ff2ca0>],\n",
       " [Text(0.913470699505598, 0.6128387072833714, 'Arquitectura'),\n",
       "  Text(0.2098381458110263, 1.0797999595122194, 'Ciencias Agricolas'),\n",
       "  Text(-0.6149243505668454, 0.9120680035391788, 'Ciencias Economicas'),\n",
       "  Text(-1.0780317930018875, -0.21874060728894396, 'Ciencias Politicas'),\n",
       "  Text(-0.21203085933070062, -1.0793715369100136, 'Ingenieria'),\n",
       "  Text(0.914713517691085, -0.6109821442179806, 'Medicina')],\n",
       " [Text(0.49825674518487156, 0.33427565851820257, '18.8%'),\n",
       "  Text(0.11445717044237796, 0.5889817960975742, '6.3%'),\n",
       "  Text(-0.33541328212737015, 0.4974916382940975, '18.7%'),\n",
       "  Text(-0.588017341637393, -0.11931305852124215, '18.8%'),\n",
       "  Text(-0.11565319599856397, -0.5887481110418256, '18.7%'),\n",
       "  Text(0.49893464601331905, -0.33326298775526214, '18.7%')])"
      ]
     },
     "execution_count": 41,
     "metadata": {},
     "output_type": "execute_result"
    },
    {
     "data": {
      "image/png": "[encoded data removed]",
      "text/plain": [
       "<Figure size 432x288 with 1 Axes>"
      ]
     },
     "metadata": {},
     "output_type": "display_data"
    }
   ],
   "source": [
    "plt.pie(df_examFacultyCount['ExamCount'], labels=df_examFacultyCount.NombreFacultad, autopct='%1.1f%%')"
   ]
  },
  {
   "cell_type": "markdown",
   "metadata": {},
   "source": [
    "### Exercise ii"
   ]
  },
  {
   "cell_type": "markdown",
   "metadata": {},
   "source": [
    "### Exercise iii"
   ]
  }
 ],
 "metadata": {
  "interpreter": {
   "hash": "4b3ecf62df3181ebd0c4be78205c7b22b4b604af4ac49509235f8258639d7f26"
  },
  "kernelspec": {
   "display_name": "Python 3.8.8 64-bit ('base': conda)",
   "name": "python3"
  },
  "language_info": {
   "codemirror_mode": {
    "name": "ipython",
    "version": 3
   },
   "file_extension": ".py",
   "mimetype": "text/x-python",
   "name": "python",
   "nbconvert_exporter": "python",
   "pygments_lexer": "ipython3",
   "version": "3.8.8"
  },
  "orig_nbformat": 4
 },
 "nbformat": 4,
 "nbformat_minor": 2
}
